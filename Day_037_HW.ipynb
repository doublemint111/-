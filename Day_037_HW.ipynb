{
 "cells": [
  {
   "cell_type": "markdown",
   "metadata": {},
   "source": [
    "## 線性回歸模型能夠準確預測非線性關係的資料集嗎?"
   ]
  },
  {
   "cell_type": "markdown",
   "metadata": {},
   "source": [
    "線性回歸無法準確預測非線性的資料集\n",
    "\n",
    "備註.\n",
    "所以當資料具有非線性的關係時，Linear Regression 的表現就會變差\n"
   ]
  },
  {
   "cell_type": "markdown",
   "metadata": {},
   "source": [
    "## 回歸模型是否對資料分布有基本假設?"
   ]
  },
  {
   "cell_type": "markdown",
   "metadata": {},
   "source": [
    "Logistic Regression 雖然是廣義的線性模型，但經過 Sigmoid 函數以及 kernel trick，是可以解決非線性問題的\n",
    "\n",
    "通常回歸分析有五個基本假設:线性性 & 可加性、误差项（ε）之间应相互独立、自变量（X1，X2）之间应相互独立、误差项（ε）的方差应为常数、误差项（ε）应呈正态分布"
   ]
  },
  {
   "cell_type": "code",
   "execution_count": null,
   "metadata": {},
   "outputs": [],
   "source": []
  }
 ],
 "metadata": {
  "kernelspec": {
   "display_name": "Python 3",
   "language": "python",
   "name": "python3"
  },
  "language_info": {
   "codemirror_mode": {
    "name": "ipython",
    "version": 3
   },
   "file_extension": ".py",
   "mimetype": "text/x-python",
   "name": "python",
   "nbconvert_exporter": "python",
   "pygments_lexer": "ipython3",
   "version": "3.7.4"
  }
 },
 "nbformat": 4,
 "nbformat_minor": 2
}
