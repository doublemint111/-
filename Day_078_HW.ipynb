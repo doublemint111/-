{
 "cells": [
  {
   "cell_type": "markdown",
   "metadata": {},
   "source": [
    "## 學習在模型開始前檢查各個環節\n",
    "\n",
    "是否有 GPU 資源\n",
    "\n",
    "將前處理轉為函式，統一處理訓練、驗證與測試集\n",
    "\n",
    "將超參數變數化，易於重複使用函式、模型等"
   ]
  },
  {
   "cell_type": "code",
   "execution_count": 2,
   "metadata": {},
   "outputs": [],
   "source": [
    "## 確認硬體資源 (如果你是在 Linux, 若是在 Windows, 請參考 https://blog.csdn.net/idwtwt/article/details/78017565)\n",
    "# 通常預設路徑會在 C:\\Program Files\\NVIDIA Corporation\\NVSMI，之後再輸入 nvidia-smi 就可以看到詳情了\n",
    "nvidia-smi"
   ]
  },
  {
   "cell_type": "code",
   "execution_count": 1,
   "metadata": {},
   "outputs": [],
   "source": [
    "import os\n",
    "import tensorflow.keras\n",
    "\n",
    "# 本範例不需使用 GPU, 將 GPU 設定為 \"無\"\n",
    "os.environ[\"CUDA_VISIBLE_DEVICES\"] = \"\""
   ]
  },
  {
   "cell_type": "code",
   "execution_count": 2,
   "metadata": {},
   "outputs": [],
   "source": [
    "# 從 Keras 的內建功能中，取得 train 與 test 資料集\n",
    "train, test = tensorflow.keras.datasets.cifar10.load_data()"
   ]
  },
  {
   "cell_type": "code",
   "execution_count": 3,
   "metadata": {},
   "outputs": [],
   "source": [
    "## 資料前處理\n",
    "def preproc_x(x, flatten=True):\n",
    "    x = x / 255.\n",
    "    if flatten:\n",
    "        x = x.reshape((len(x), -1))\n",
    "    return x\n",
    "\n",
    "def preproc_y(y, num_classes=10):\n",
    "    if y.shape[-1] == 1:\n",
    "        y = tensorflow.keras.utils.to_categorical(y, num_classes)\n",
    "    return y    "
   ]
  },
  {
   "cell_type": "code",
   "execution_count": 4,
   "metadata": {},
   "outputs": [],
   "source": [
    "x_train, y_train = train\n",
    "x_test, y_test = test\n",
    "\n",
    "# 資料前處理 - X 標準化\n",
    "x_train = preproc_x(x_train)\n",
    "x_test = preproc_x(x_test)\n",
    "\n",
    "# 資料前處理 -Y 轉成 onehot\n",
    "y_train = preproc_y(y_train)\n",
    "y_test = preproc_y(y_test)"
   ]
  },
  {
   "cell_type": "code",
   "execution_count": 5,
   "metadata": {},
   "outputs": [],
   "source": [
    "def build_mlp(input_shape, output_units=10, num_neurons=[512, 256, 128]):\n",
    "    input_layer = tensorflow.keras.layers.Input(input_shape)\n",
    "    \n",
    "    for i, n_units in enumerate(num_neurons):\n",
    "        if i == 0:\n",
    "            x = tensorflow.keras.layers.Dense(units=n_units, activation=\"relu\", name=\"hidden_layer\"+str(i+1))(input_layer)\n",
    "        else:\n",
    "            x = tensorflow.keras.layers.Dense(units=n_units, activation=\"relu\", name=\"hidden_layer\"+str(i+1))(x)\n",
    "    \n",
    "    out = tensorflow.keras.layers.Dense(units=output_units, activation=\"softmax\", name=\"output\")(x)\n",
    "    \n",
    "    model = tensorflow.keras.models.Model(inputs=[input_layer], outputs=[out])\n",
    "    return model"
   ]
  },
  {
   "cell_type": "code",
   "execution_count": 6,
   "metadata": {},
   "outputs": [
    {
     "name": "stdout",
     "output_type": "stream",
     "text": [
      "Model: \"model\"\n",
      "_________________________________________________________________\n",
      "Layer (type)                 Output Shape              Param #   \n",
      "=================================================================\n",
      "input_1 (InputLayer)         [(None, 3072)]            0         \n",
      "_________________________________________________________________\n",
      "hidden_layer1 (Dense)        (None, 512)               1573376   \n",
      "_________________________________________________________________\n",
      "hidden_layer2 (Dense)        (None, 256)               131328    \n",
      "_________________________________________________________________\n",
      "hidden_layer3 (Dense)        (None, 128)               32896     \n",
      "_________________________________________________________________\n",
      "output (Dense)               (None, 10)                1290      \n",
      "=================================================================\n",
      "Total params: 1,738,890\n",
      "Trainable params: 1,738,890\n",
      "Non-trainable params: 0\n",
      "_________________________________________________________________\n"
     ]
    }
   ],
   "source": [
    "model = build_mlp(input_shape=x_train.shape[1:])\n",
    "model.summary()"
   ]
  },
  {
   "cell_type": "code",
   "execution_count": 7,
   "metadata": {},
   "outputs": [],
   "source": [
    "# 超參數設定\n",
    "LEARNING_RATE = 0.001\n",
    "EPOCHS = 100\n",
    "BATCH_SIZE = 256"
   ]
  },
  {
   "cell_type": "code",
   "execution_count": 8,
   "metadata": {},
   "outputs": [],
   "source": [
    "optimizer = tensorflow.keras.optimizers.Adam(lr=LEARNING_RATE)\n",
    "model.compile(loss=\"categorical_crossentropy\", metrics=[\"accuracy\"], optimizer=optimizer)"
   ]
  },
  {
   "cell_type": "code",
   "execution_count": 9,
   "metadata": {},
   "outputs": [
    {
     "name": "stdout",
     "output_type": "stream",
     "text": [
      "Train on 50000 samples, validate on 10000 samples\n",
      "Epoch 1/100\n",
      "50000/50000 [==============================] - 2s 48us/sample - loss: 1.9100 - accuracy: 0.3130 - val_loss: 1.7551 - val_accuracy: 0.3716\n",
      "Epoch 2/100\n",
      "50000/50000 [==============================] - 1s 30us/sample - loss: 1.7058 - accuracy: 0.3889 - val_loss: 1.6443 - val_accuracy: 0.4099\n",
      "Epoch 3/100\n",
      "50000/50000 [==============================] - 1s 29us/sample - loss: 1.6061 - accuracy: 0.4271 - val_loss: 1.5479 - val_accuracy: 0.4482\n",
      "Epoch 4/100\n",
      "50000/50000 [==============================] - 1s 29us/sample - loss: 1.5598 - accuracy: 0.4420 - val_loss: 1.5385 - val_accuracy: 0.4479\n",
      "Epoch 5/100\n",
      "50000/50000 [==============================] - 1s 29us/sample - loss: 1.5037 - accuracy: 0.4615 - val_loss: 1.5493 - val_accuracy: 0.4496\n",
      "Epoch 6/100\n",
      "50000/50000 [==============================] - 1s 30us/sample - loss: 1.4643 - accuracy: 0.4753 - val_loss: 1.5313 - val_accuracy: 0.4508\n",
      "Epoch 7/100\n",
      "50000/50000 [==============================] - 1s 30us/sample - loss: 1.4388 - accuracy: 0.4841 - val_loss: 1.4867 - val_accuracy: 0.4753\n",
      "Epoch 8/100\n",
      "50000/50000 [==============================] - 2s 30us/sample - loss: 1.4009 - accuracy: 0.4992 - val_loss: 1.4733 - val_accuracy: 0.4716\n",
      "Epoch 9/100\n",
      "50000/50000 [==============================] - 2s 30us/sample - loss: 1.3747 - accuracy: 0.5104 - val_loss: 1.4147 - val_accuracy: 0.4914\n",
      "Epoch 10/100\n",
      "50000/50000 [==============================] - 1s 30us/sample - loss: 1.3452 - accuracy: 0.5200 - val_loss: 1.4446 - val_accuracy: 0.4761\n",
      "Epoch 11/100\n",
      "50000/50000 [==============================] - 1s 30us/sample - loss: 1.3233 - accuracy: 0.5275 - val_loss: 1.4855 - val_accuracy: 0.4761\n",
      "Epoch 12/100\n",
      "50000/50000 [==============================] - 2s 30us/sample - loss: 1.2974 - accuracy: 0.5383 - val_loss: 1.3696 - val_accuracy: 0.5115\n",
      "Epoch 13/100\n",
      "50000/50000 [==============================] - 2s 30us/sample - loss: 1.2709 - accuracy: 0.5495 - val_loss: 1.4070 - val_accuracy: 0.4936\n",
      "Epoch 14/100\n",
      "50000/50000 [==============================] - 2s 30us/sample - loss: 1.2635 - accuracy: 0.5481 - val_loss: 1.4238 - val_accuracy: 0.4918\n",
      "Epoch 15/100\n",
      "50000/50000 [==============================] - 2s 30us/sample - loss: 1.2340 - accuracy: 0.5599 - val_loss: 1.3836 - val_accuracy: 0.5114\n",
      "Epoch 16/100\n",
      "50000/50000 [==============================] - 1s 30us/sample - loss: 1.2145 - accuracy: 0.5682 - val_loss: 1.3703 - val_accuracy: 0.5150\n",
      "Epoch 17/100\n",
      "50000/50000 [==============================] - 2s 30us/sample - loss: 1.1924 - accuracy: 0.5762 - val_loss: 1.3638 - val_accuracy: 0.5146\n",
      "Epoch 18/100\n",
      "50000/50000 [==============================] - 2s 30us/sample - loss: 1.1727 - accuracy: 0.5827 - val_loss: 1.3389 - val_accuracy: 0.5299\n",
      "Epoch 19/100\n",
      "50000/50000 [==============================] - 2s 30us/sample - loss: 1.1529 - accuracy: 0.5884 - val_loss: 1.3746 - val_accuracy: 0.5224\n",
      "Epoch 20/100\n",
      "50000/50000 [==============================] - 2s 30us/sample - loss: 1.1347 - accuracy: 0.5940 - val_loss: 1.3949 - val_accuracy: 0.5142\n",
      "Epoch 21/100\n",
      "50000/50000 [==============================] - 2s 32us/sample - loss: 1.1168 - accuracy: 0.5983 - val_loss: 1.3635 - val_accuracy: 0.5230\n",
      "Epoch 22/100\n",
      "50000/50000 [==============================] - 2s 31us/sample - loss: 1.0912 - accuracy: 0.6084 - val_loss: 1.3981 - val_accuracy: 0.5081\n",
      "Epoch 23/100\n",
      "50000/50000 [==============================] - 2s 32us/sample - loss: 1.0704 - accuracy: 0.6161 - val_loss: 1.3599 - val_accuracy: 0.5272\n",
      "Epoch 24/100\n",
      "50000/50000 [==============================] - 2s 32us/sample - loss: 1.0464 - accuracy: 0.6249 - val_loss: 1.3694 - val_accuracy: 0.5248\n",
      "Epoch 25/100\n",
      "50000/50000 [==============================] - 2s 32us/sample - loss: 1.0316 - accuracy: 0.6326 - val_loss: 1.3737 - val_accuracy: 0.5240\n",
      "Epoch 26/100\n",
      "50000/50000 [==============================] - 2s 31us/sample - loss: 1.0202 - accuracy: 0.6346 - val_loss: 1.3937 - val_accuracy: 0.5233\n",
      "Epoch 27/100\n",
      "50000/50000 [==============================] - 2s 32us/sample - loss: 1.0010 - accuracy: 0.6433 - val_loss: 1.4293 - val_accuracy: 0.5140\n",
      "Epoch 28/100\n",
      "50000/50000 [==============================] - 2s 31us/sample - loss: 0.9736 - accuracy: 0.6502 - val_loss: 1.4086 - val_accuracy: 0.5241\n",
      "Epoch 29/100\n",
      "50000/50000 [==============================] - 2s 32us/sample - loss: 0.9614 - accuracy: 0.6550 - val_loss: 1.4023 - val_accuracy: 0.5211\n",
      "Epoch 30/100\n",
      "50000/50000 [==============================] - 2s 32us/sample - loss: 0.9316 - accuracy: 0.6663 - val_loss: 1.4191 - val_accuracy: 0.5249\n",
      "Epoch 31/100\n",
      "50000/50000 [==============================] - 2s 30us/sample - loss: 0.9316 - accuracy: 0.6665 - val_loss: 1.4329 - val_accuracy: 0.5283\n",
      "Epoch 32/100\n",
      "50000/50000 [==============================] - 2s 30us/sample - loss: 0.9028 - accuracy: 0.6767 - val_loss: 1.4201 - val_accuracy: 0.5228\n",
      "Epoch 33/100\n",
      "50000/50000 [==============================] - 1s 30us/sample - loss: 0.8782 - accuracy: 0.6857 - val_loss: 1.4405 - val_accuracy: 0.5298\n",
      "Epoch 34/100\n",
      "50000/50000 [==============================] - 2s 30us/sample - loss: 0.8726 - accuracy: 0.6881 - val_loss: 1.4916 - val_accuracy: 0.5260\n",
      "Epoch 35/100\n",
      "50000/50000 [==============================] - 2s 30us/sample - loss: 0.8465 - accuracy: 0.6968 - val_loss: 1.4620 - val_accuracy: 0.5314\n",
      "Epoch 36/100\n",
      "50000/50000 [==============================] - 2s 30us/sample - loss: 0.8440 - accuracy: 0.6974 - val_loss: 1.4995 - val_accuracy: 0.5282\n",
      "Epoch 37/100\n",
      "50000/50000 [==============================] - 2s 30us/sample - loss: 0.8130 - accuracy: 0.7096 - val_loss: 1.5188 - val_accuracy: 0.5219\n",
      "Epoch 38/100\n",
      "50000/50000 [==============================] - 2s 30us/sample - loss: 0.8074 - accuracy: 0.7110 - val_loss: 1.5249 - val_accuracy: 0.5284\n",
      "Epoch 39/100\n",
      "50000/50000 [==============================] - 2s 31us/sample - loss: 0.7756 - accuracy: 0.7246 - val_loss: 1.5252 - val_accuracy: 0.5299\n",
      "Epoch 40/100\n",
      "50000/50000 [==============================] - 2s 30us/sample - loss: 0.7635 - accuracy: 0.7286 - val_loss: 1.5646 - val_accuracy: 0.5191\n",
      "Epoch 41/100\n",
      "50000/50000 [==============================] - 2s 30us/sample - loss: 0.7606 - accuracy: 0.7283 - val_loss: 1.5932 - val_accuracy: 0.5278\n",
      "Epoch 42/100\n",
      "50000/50000 [==============================] - 2s 30us/sample - loss: 0.7348 - accuracy: 0.7370 - val_loss: 1.6333 - val_accuracy: 0.5151\n",
      "Epoch 43/100\n",
      "50000/50000 [==============================] - 2s 30us/sample - loss: 0.7382 - accuracy: 0.7370 - val_loss: 1.6160 - val_accuracy: 0.5251\n",
      "Epoch 44/100\n",
      "50000/50000 [==============================] - 1s 30us/sample - loss: 0.7022 - accuracy: 0.7465 - val_loss: 1.6637 - val_accuracy: 0.5235\n",
      "Epoch 45/100\n",
      "50000/50000 [==============================] - 1s 30us/sample - loss: 0.6959 - accuracy: 0.7524 - val_loss: 1.6232 - val_accuracy: 0.5201\n",
      "Epoch 46/100\n",
      "50000/50000 [==============================] - 1s 30us/sample - loss: 0.6803 - accuracy: 0.7564 - val_loss: 1.6966 - val_accuracy: 0.5263\n",
      "Epoch 47/100\n",
      "50000/50000 [==============================] - 1s 30us/sample - loss: 0.6544 - accuracy: 0.7675 - val_loss: 1.7320 - val_accuracy: 0.5186\n",
      "Epoch 48/100\n",
      "50000/50000 [==============================] - 2s 30us/sample - loss: 0.6550 - accuracy: 0.7667 - val_loss: 1.7966 - val_accuracy: 0.5121\n",
      "Epoch 49/100\n",
      "50000/50000 [==============================] - 2s 32us/sample - loss: 0.6341 - accuracy: 0.7743 - val_loss: 1.7700 - val_accuracy: 0.5233\n",
      "Epoch 50/100\n",
      "50000/50000 [==============================] - 2s 31us/sample - loss: 0.6331 - accuracy: 0.7732 - val_loss: 1.7681 - val_accuracy: 0.5183\n",
      "Epoch 51/100\n",
      "50000/50000 [==============================] - 2s 32us/sample - loss: 0.6021 - accuracy: 0.7859 - val_loss: 1.8242 - val_accuracy: 0.5209\n",
      "Epoch 52/100\n",
      "50000/50000 [==============================] - 2s 32us/sample - loss: 0.6007 - accuracy: 0.7874 - val_loss: 1.8434 - val_accuracy: 0.5185\n",
      "Epoch 53/100\n",
      "50000/50000 [==============================] - 2s 30us/sample - loss: 0.5859 - accuracy: 0.7915 - val_loss: 1.8842 - val_accuracy: 0.5204\n",
      "Epoch 54/100\n",
      "50000/50000 [==============================] - 2s 30us/sample - loss: 0.5765 - accuracy: 0.7954 - val_loss: 1.9409 - val_accuracy: 0.5136\n"
     ]
    },
    {
     "name": "stdout",
     "output_type": "stream",
     "text": [
      "Epoch 55/100\n",
      "50000/50000 [==============================] - 1s 30us/sample - loss: 0.5607 - accuracy: 0.8017 - val_loss: 1.8923 - val_accuracy: 0.5169\n",
      "Epoch 56/100\n",
      "50000/50000 [==============================] - 1s 30us/sample - loss: 0.5518 - accuracy: 0.8046 - val_loss: 1.9338 - val_accuracy: 0.5171\n",
      "Epoch 57/100\n",
      "50000/50000 [==============================] - 1s 30us/sample - loss: 0.5403 - accuracy: 0.8070 - val_loss: 2.0379 - val_accuracy: 0.5179\n",
      "Epoch 58/100\n",
      "50000/50000 [==============================] - 2s 32us/sample - loss: 0.5308 - accuracy: 0.8105 - val_loss: 2.0504 - val_accuracy: 0.5074\n",
      "Epoch 59/100\n",
      "50000/50000 [==============================] - 1s 29us/sample - loss: 0.5334 - accuracy: 0.8080 - val_loss: 2.0436 - val_accuracy: 0.5143\n",
      "Epoch 60/100\n",
      "50000/50000 [==============================] - 1s 30us/sample - loss: 0.5014 - accuracy: 0.8221 - val_loss: 2.0769 - val_accuracy: 0.5141\n",
      "Epoch 61/100\n",
      "50000/50000 [==============================] - 1s 29us/sample - loss: 0.5062 - accuracy: 0.8192 - val_loss: 2.1433 - val_accuracy: 0.5114\n",
      "Epoch 62/100\n",
      "50000/50000 [==============================] - 1s 30us/sample - loss: 0.4888 - accuracy: 0.8266 - val_loss: 2.1436 - val_accuracy: 0.5132\n",
      "Epoch 63/100\n",
      "50000/50000 [==============================] - 1s 29us/sample - loss: 0.4798 - accuracy: 0.8290 - val_loss: 2.1344 - val_accuracy: 0.5090\n",
      "Epoch 64/100\n",
      "50000/50000 [==============================] - 1s 30us/sample - loss: 0.4736 - accuracy: 0.8285 - val_loss: 2.2518 - val_accuracy: 0.5099\n",
      "Epoch 65/100\n",
      "50000/50000 [==============================] - 1s 29us/sample - loss: 0.4591 - accuracy: 0.8349 - val_loss: 2.1985 - val_accuracy: 0.5111\n",
      "Epoch 66/100\n",
      "50000/50000 [==============================] - 1s 30us/sample - loss: 0.4551 - accuracy: 0.8372 - val_loss: 2.1905 - val_accuracy: 0.5158\n",
      "Epoch 67/100\n",
      "50000/50000 [==============================] - 1s 30us/sample - loss: 0.4420 - accuracy: 0.8415 - val_loss: 2.3093 - val_accuracy: 0.5083\n",
      "Epoch 68/100\n",
      "50000/50000 [==============================] - 1s 30us/sample - loss: 0.4385 - accuracy: 0.8443 - val_loss: 2.3438 - val_accuracy: 0.5123\n",
      "Epoch 69/100\n",
      "50000/50000 [==============================] - 2s 30us/sample - loss: 0.4304 - accuracy: 0.8451 - val_loss: 2.4193 - val_accuracy: 0.5027\n",
      "Epoch 70/100\n",
      "50000/50000 [==============================] - 2s 31us/sample - loss: 0.4449 - accuracy: 0.8406 - val_loss: 2.3547 - val_accuracy: 0.5129\n",
      "Epoch 71/100\n",
      "50000/50000 [==============================] - 1s 30us/sample - loss: 0.3983 - accuracy: 0.8601 - val_loss: 2.4151 - val_accuracy: 0.5065\n",
      "Epoch 72/100\n",
      "50000/50000 [==============================] - 1s 29us/sample - loss: 0.3957 - accuracy: 0.8594 - val_loss: 2.5171 - val_accuracy: 0.5075\n",
      "Epoch 73/100\n",
      "50000/50000 [==============================] - 1s 30us/sample - loss: 0.3945 - accuracy: 0.8582 - val_loss: 2.4643 - val_accuracy: 0.5034\n",
      "Epoch 74/100\n",
      "50000/50000 [==============================] - 1s 30us/sample - loss: 0.4079 - accuracy: 0.8537 - val_loss: 2.5523 - val_accuracy: 0.5022\n",
      "Epoch 75/100\n",
      "50000/50000 [==============================] - 1s 29us/sample - loss: 0.3844 - accuracy: 0.8630 - val_loss: 2.5190 - val_accuracy: 0.5064\n",
      "Epoch 76/100\n",
      "50000/50000 [==============================] - 1s 30us/sample - loss: 0.4097 - accuracy: 0.8520 - val_loss: 2.5950 - val_accuracy: 0.5047\n",
      "Epoch 77/100\n",
      "50000/50000 [==============================] - 1s 30us/sample - loss: 0.3750 - accuracy: 0.8669 - val_loss: 2.7093 - val_accuracy: 0.5047\n",
      "Epoch 78/100\n",
      "50000/50000 [==============================] - 1s 30us/sample - loss: 0.3645 - accuracy: 0.8690 - val_loss: 2.6776 - val_accuracy: 0.5070\n",
      "Epoch 79/100\n",
      "50000/50000 [==============================] - 1s 30us/sample - loss: 0.3846 - accuracy: 0.8593 - val_loss: 2.6508 - val_accuracy: 0.5043\n",
      "Epoch 80/100\n",
      "50000/50000 [==============================] - 2s 30us/sample - loss: 0.3555 - accuracy: 0.8728 - val_loss: 2.6815 - val_accuracy: 0.5069\n",
      "Epoch 81/100\n",
      "50000/50000 [==============================] - 2s 30us/sample - loss: 0.3364 - accuracy: 0.8799 - val_loss: 2.8497 - val_accuracy: 0.5064\n",
      "Epoch 82/100\n",
      "50000/50000 [==============================] - 2s 30us/sample - loss: 0.3384 - accuracy: 0.8794 - val_loss: 2.7700 - val_accuracy: 0.5059\n",
      "Epoch 83/100\n",
      "50000/50000 [==============================] - 1s 30us/sample - loss: 0.3558 - accuracy: 0.8716 - val_loss: 2.7644 - val_accuracy: 0.5066\n",
      "Epoch 84/100\n",
      "50000/50000 [==============================] - 2s 30us/sample - loss: 0.3386 - accuracy: 0.8779 - val_loss: 2.8962 - val_accuracy: 0.5034\n",
      "Epoch 85/100\n",
      "50000/50000 [==============================] - 1s 30us/sample - loss: 0.3433 - accuracy: 0.8766 - val_loss: 2.8437 - val_accuracy: 0.4981\n",
      "Epoch 86/100\n",
      "50000/50000 [==============================] - 1s 30us/sample - loss: 0.3479 - accuracy: 0.8747 - val_loss: 2.9644 - val_accuracy: 0.5059\n",
      "Epoch 87/100\n",
      "50000/50000 [==============================] - 1s 30us/sample - loss: 0.3341 - accuracy: 0.8791 - val_loss: 2.9639 - val_accuracy: 0.5000\n",
      "Epoch 88/100\n",
      "50000/50000 [==============================] - 1s 30us/sample - loss: 0.3363 - accuracy: 0.8776 - val_loss: 2.8986 - val_accuracy: 0.5022\n",
      "Epoch 89/100\n",
      "50000/50000 [==============================] - 1s 29us/sample - loss: 0.2974 - accuracy: 0.8937 - val_loss: 3.0261 - val_accuracy: 0.5008\n",
      "Epoch 90/100\n",
      "50000/50000 [==============================] - 2s 30us/sample - loss: 0.3039 - accuracy: 0.8913 - val_loss: 3.1023 - val_accuracy: 0.4938\n",
      "Epoch 91/100\n",
      "50000/50000 [==============================] - 1s 30us/sample - loss: 0.3534 - accuracy: 0.8728 - val_loss: 3.0991 - val_accuracy: 0.4981\n",
      "Epoch 92/100\n",
      "50000/50000 [==============================] - 2s 30us/sample - loss: 0.2903 - accuracy: 0.8949 - val_loss: 3.0233 - val_accuracy: 0.5098\n",
      "Epoch 93/100\n",
      "50000/50000 [==============================] - 1s 30us/sample - loss: 0.3200 - accuracy: 0.8840 - val_loss: 3.0385 - val_accuracy: 0.5008\n",
      "Epoch 94/100\n",
      "50000/50000 [==============================] - 2s 31us/sample - loss: 0.2852 - accuracy: 0.8987 - val_loss: 3.0712 - val_accuracy: 0.5068\n",
      "Epoch 95/100\n",
      "50000/50000 [==============================] - 2s 32us/sample - loss: 0.2756 - accuracy: 0.9015 - val_loss: 3.1652 - val_accuracy: 0.5025\n",
      "Epoch 96/100\n",
      "50000/50000 [==============================] - 2s 31us/sample - loss: 0.2882 - accuracy: 0.8981 - val_loss: 3.2354 - val_accuracy: 0.5026\n",
      "Epoch 97/100\n",
      "50000/50000 [==============================] - 2s 30us/sample - loss: 0.2800 - accuracy: 0.8990 - val_loss: 3.3487 - val_accuracy: 0.4902\n",
      "Epoch 98/100\n",
      "50000/50000 [==============================] - 2s 30us/sample - loss: 0.2875 - accuracy: 0.8963 - val_loss: 3.1931 - val_accuracy: 0.4992\n",
      "Epoch 99/100\n",
      "50000/50000 [==============================] - 2s 30us/sample - loss: 0.2925 - accuracy: 0.8942 - val_loss: 3.2906 - val_accuracy: 0.5049\n",
      "Epoch 100/100\n",
      "50000/50000 [==============================] - 2s 30us/sample - loss: 0.2704 - accuracy: 0.9031 - val_loss: 3.3595 - val_accuracy: 0.5016\n"
     ]
    },
    {
     "data": {
      "text/plain": [
       "<tensorflow.python.keras.callbacks.History at 0x2072d0b6c48>"
      ]
     },
     "execution_count": 9,
     "metadata": {},
     "output_type": "execute_result"
    }
   ],
   "source": [
    "model.fit(x_train, y_train, \n",
    "          epochs=EPOCHS, \n",
    "          batch_size=BATCH_SIZE, \n",
    "          validation_data=(x_test, y_test), \n",
    "          shuffle=True)"
   ]
  },
  {
   "cell_type": "code",
   "execution_count": 10,
   "metadata": {},
   "outputs": [
    {
     "data": {
      "image/png": "[encoded data removed]",
      "text/plain": [
       "<Figure size 432x288 with 1 Axes>"
      ]
     },
     "metadata": {
      "needs_background": "light"
     },
     "output_type": "display_data"
    },
    {
     "data": {
      "image/png": "[encoded data removed]",
      "text/plain": [
       "<Figure size 432x288 with 1 Axes>"
      ]
     },
     "metadata": {
      "needs_background": "light"
     },
     "output_type": "display_data"
    }
   ],
   "source": [
    "# 訓練模型並檢視驗證集的結果\n",
    "import matplotlib.pyplot as plt\n",
    "\n",
    "train_loss = model.history.history[\"loss\"]\n",
    "valid_loss = model.history.history[\"val_loss\"]\n",
    "\n",
    "train_acc = model.history.history[\"accuracy\"]\n",
    "valid_acc = model.history.history[\"val_accuracy\"]\n",
    "\n",
    "plt.plot(range(len(train_loss)), train_loss, label=\"train loss\")\n",
    "plt.plot(range(len(valid_loss)), valid_loss, label=\"valid loss\")\n",
    "plt.legend()\n",
    "plt.title(\"Loss\")\n",
    "plt.show()\n",
    "\n",
    "plt.plot(range(len(train_acc)), train_acc, label=\"train accuracy\")\n",
    "plt.plot(range(len(valid_acc)), valid_acc, label=\"valid accuracy\")\n",
    "plt.legend()\n",
    "plt.title(\"Accuracy\")\n",
    "plt.show()"
   ]
  },
  {
   "cell_type": "code",
   "execution_count": null,
   "metadata": {},
   "outputs": [],
   "source": []
  },
  {
   "cell_type": "markdown",
   "metadata": {},
   "source": [
    "## Work\n",
    "\n",
    "請嘗試將 preproc_x 替換成以每筆資料的 min/max 進行標準化至 -1 ~ 1 間，再進行訓練\n",
    "\n",
    "請嘗試將 mlp 疊更深 (e.g 5~10 層)，進行訓練後觀察 learning curve 的走勢\n",
    "\n",
    "(optional) 請改用 GPU 進行訓練 (如果你有 GPU 的話)，比較使用 CPU 與 GPU 的訓練速度"
   ]
  },
  {
   "cell_type": "code",
   "execution_count": 11,
   "metadata": {},
   "outputs": [],
   "source": [
    "# 啟用 GPU, 將 GPU 設定在有空檔的 GPU\n",
    "os.environ[\"CUDA_DEVICE_ORDER\"]=\"PCI_BUS_ID\" # 設定 smi 看到的 GPU ID 符合實際設定的順序 (若一台機器有多張不同型號的卡時，會有此類問題)\n",
    "os.environ[\"CUDA_VISIBLE_DEVICES\"] = \"0,1\""
   ]
  },
  {
   "cell_type": "code",
   "execution_count": 12,
   "metadata": {},
   "outputs": [],
   "source": [
    "# 從 Keras 的內建功能中，取得 train 與 test 資料集\n",
    "train, test = tensorflow.keras.datasets.cifar10.load_data()"
   ]
  },
  {
   "cell_type": "code",
   "execution_count": null,
   "metadata": {},
   "outputs": [],
   "source": [
    "\"\"\"Code Here\n",
    "資料前處理\n",
    "\"\"\""
   ]
  },
  {
   "cell_type": "code",
   "execution_count": 14,
   "metadata": {},
   "outputs": [],
   "source": [
    "x_train, y_train = train\n",
    "x_test, y_test = test\n",
    "\n",
    "# 資料前處理 - X 標準化\n",
    "x_train = preproc_x(x_train)\n",
    "x_test = preproc_x(x_test)\n",
    "\n",
    "# 資料前處理 -Y 轉成 onehot\n",
    "y_train = preproc_y(y_train)\n",
    "y_test = preproc_y(y_test)"
   ]
  },
  {
   "cell_type": "code",
   "execution_count": null,
   "metadata": {},
   "outputs": [],
   "source": [
    "\"\"\"Code Here\n",
    "建立神經網路\n",
    "\"\"\""
   ]
  },
  {
   "cell_type": "code",
   "execution_count": 15,
   "metadata": {},
   "outputs": [
    {
     "name": "stdout",
     "output_type": "stream",
     "text": [
      "Model: \"model_1\"\n",
      "_________________________________________________________________\n",
      "Layer (type)                 Output Shape              Param #   \n",
      "=================================================================\n",
      "input_2 (InputLayer)         [(None, 3072)]            0         \n",
      "_________________________________________________________________\n",
      "hidden_layer1 (Dense)        (None, 512)               1573376   \n",
      "_________________________________________________________________\n",
      "hidden_layer2 (Dense)        (None, 256)               131328    \n",
      "_________________________________________________________________\n",
      "hidden_layer3 (Dense)        (None, 128)               32896     \n",
      "_________________________________________________________________\n",
      "output (Dense)               (None, 10)                1290      \n",
      "=================================================================\n",
      "Total params: 1,738,890\n",
      "Trainable params: 1,738,890\n",
      "Non-trainable params: 0\n",
      "_________________________________________________________________\n"
     ]
    }
   ],
   "source": [
    "model = build_mlp(input_shape=x_train.shape[1:])\n",
    "model.summary()"
   ]
  },
  {
   "cell_type": "code",
   "execution_count": 16,
   "metadata": {},
   "outputs": [],
   "source": [
    "## 超參數設定\n",
    "LEARNING_RATE = 0.001\n",
    "EPOCHS = 100\n",
    "BATCH_SIZE = 256"
   ]
  },
  {
   "cell_type": "code",
   "execution_count": 18,
   "metadata": {},
   "outputs": [],
   "source": [
    "optimizer = tensorflow.keras.optimizers.Adam(lr=LEARNING_RATE)\n",
    "model.compile(loss=\"categorical_crossentropy\", metrics=[\"accuracy\"], optimizer=optimizer)"
   ]
  },
  {
   "cell_type": "code",
   "execution_count": 19,
   "metadata": {},
   "outputs": [
    {
     "name": "stdout",
     "output_type": "stream",
     "text": [
      "Train on 50000 samples, validate on 10000 samples\n",
      "Epoch 1/100\n",
      "50000/50000 [==============================] - 2s 36us/sample - loss: 1.9413 - accuracy: 0.2976 - val_loss: 1.7728 - val_accuracy: 0.3631\n",
      "Epoch 2/100\n",
      "50000/50000 [==============================] - 1s 30us/sample - loss: 1.7059 - accuracy: 0.3870 - val_loss: 1.6551 - val_accuracy: 0.4092\n",
      "Epoch 3/100\n",
      "50000/50000 [==============================] - 2s 31us/sample - loss: 1.6167 - accuracy: 0.4215 - val_loss: 1.5939 - val_accuracy: 0.4235\n",
      "Epoch 4/100\n",
      "50000/50000 [==============================] - 1s 29us/sample - loss: 1.5593 - accuracy: 0.4431 - val_loss: 1.5679 - val_accuracy: 0.4349\n",
      "Epoch 5/100\n",
      "50000/50000 [==============================] - 1s 30us/sample - loss: 1.5056 - accuracy: 0.4624 - val_loss: 1.5072 - val_accuracy: 0.4625\n",
      "Epoch 6/100\n",
      "50000/50000 [==============================] - 1s 30us/sample - loss: 1.4670 - accuracy: 0.4764 - val_loss: 1.4787 - val_accuracy: 0.4683\n",
      "Epoch 7/100\n",
      "50000/50000 [==============================] - 1s 30us/sample - loss: 1.4309 - accuracy: 0.4905 - val_loss: 1.5038 - val_accuracy: 0.4670\n",
      "Epoch 8/100\n",
      "50000/50000 [==============================] - 1s 30us/sample - loss: 1.4079 - accuracy: 0.4991 - val_loss: 1.4381 - val_accuracy: 0.4882\n",
      "Epoch 9/100\n",
      "50000/50000 [==============================] - 2s 31us/sample - loss: 1.3860 - accuracy: 0.5072 - val_loss: 1.4635 - val_accuracy: 0.4869\n",
      "Epoch 10/100\n",
      "50000/50000 [==============================] - 1s 30us/sample - loss: 1.3587 - accuracy: 0.5167 - val_loss: 1.4451 - val_accuracy: 0.4888\n",
      "Epoch 11/100\n",
      "50000/50000 [==============================] - 1s 30us/sample - loss: 1.3314 - accuracy: 0.5252 - val_loss: 1.4375 - val_accuracy: 0.4956\n",
      "Epoch 12/100\n",
      "50000/50000 [==============================] - 1s 30us/sample - loss: 1.3116 - accuracy: 0.5326 - val_loss: 1.4189 - val_accuracy: 0.5000\n",
      "Epoch 13/100\n",
      "50000/50000 [==============================] - 1s 30us/sample - loss: 1.2786 - accuracy: 0.5445 - val_loss: 1.3835 - val_accuracy: 0.5079\n",
      "Epoch 14/100\n",
      "50000/50000 [==============================] - 2s 30us/sample - loss: 1.2564 - accuracy: 0.5550 - val_loss: 1.3948 - val_accuracy: 0.5095\n",
      "Epoch 15/100\n",
      "50000/50000 [==============================] - 1s 30us/sample - loss: 1.2395 - accuracy: 0.5588 - val_loss: 1.3566 - val_accuracy: 0.5213\n",
      "Epoch 16/100\n",
      "50000/50000 [==============================] - 1s 30us/sample - loss: 1.2121 - accuracy: 0.5707 - val_loss: 1.3614 - val_accuracy: 0.5227\n",
      "Epoch 17/100\n",
      "50000/50000 [==============================] - 2s 30us/sample - loss: 1.1944 - accuracy: 0.5726 - val_loss: 1.3857 - val_accuracy: 0.5099\n",
      "Epoch 18/100\n",
      "50000/50000 [==============================] - 2s 30us/sample - loss: 1.1819 - accuracy: 0.5768 - val_loss: 1.3616 - val_accuracy: 0.5241\n",
      "Epoch 19/100\n",
      "50000/50000 [==============================] - 1s 30us/sample - loss: 1.1579 - accuracy: 0.5861 - val_loss: 1.4180 - val_accuracy: 0.5107\n",
      "Epoch 20/100\n",
      "50000/50000 [==============================] - 1s 30us/sample - loss: 1.1296 - accuracy: 0.6002 - val_loss: 1.3580 - val_accuracy: 0.5218\n",
      "Epoch 21/100\n",
      "50000/50000 [==============================] - 1s 30us/sample - loss: 1.1189 - accuracy: 0.6012 - val_loss: 1.3897 - val_accuracy: 0.5198\n",
      "Epoch 22/100\n",
      "50000/50000 [==============================] - 2s 30us/sample - loss: 1.0903 - accuracy: 0.6115 - val_loss: 1.3824 - val_accuracy: 0.5252\n",
      "Epoch 23/100\n",
      "50000/50000 [==============================] - 1s 29us/sample - loss: 1.0828 - accuracy: 0.6134 - val_loss: 1.3778 - val_accuracy: 0.5203\n",
      "Epoch 24/100\n",
      "50000/50000 [==============================] - 2s 30us/sample - loss: 1.0486 - accuracy: 0.6282 - val_loss: 1.3875 - val_accuracy: 0.5240\n",
      "Epoch 25/100\n",
      "50000/50000 [==============================] - 1s 30us/sample - loss: 1.0354 - accuracy: 0.6317 - val_loss: 1.3999 - val_accuracy: 0.5217\n",
      "Epoch 26/100\n",
      "50000/50000 [==============================] - 2s 30us/sample - loss: 1.0161 - accuracy: 0.6382 - val_loss: 1.4122 - val_accuracy: 0.5175\n",
      "Epoch 27/100\n",
      "50000/50000 [==============================] - 2s 31us/sample - loss: 0.9961 - accuracy: 0.6465 - val_loss: 1.4112 - val_accuracy: 0.5253\n",
      "Epoch 28/100\n",
      "50000/50000 [==============================] - 1s 30us/sample - loss: 0.9795 - accuracy: 0.6491 - val_loss: 1.3969 - val_accuracy: 0.5268\n",
      "Epoch 29/100\n",
      "50000/50000 [==============================] - 2s 30us/sample - loss: 0.9680 - accuracy: 0.6546 - val_loss: 1.4103 - val_accuracy: 0.5237\n",
      "Epoch 30/100\n",
      "50000/50000 [==============================] - 2s 30us/sample - loss: 0.9409 - accuracy: 0.6652 - val_loss: 1.4255 - val_accuracy: 0.5301\n",
      "Epoch 31/100\n",
      "50000/50000 [==============================] - 2s 30us/sample - loss: 0.9282 - accuracy: 0.6684 - val_loss: 1.4260 - val_accuracy: 0.5309\n",
      "Epoch 32/100\n",
      "50000/50000 [==============================] - 2s 32us/sample - loss: 0.9112 - accuracy: 0.6757 - val_loss: 1.4569 - val_accuracy: 0.5231\n",
      "Epoch 33/100\n",
      "50000/50000 [==============================] - 2s 33us/sample - loss: 0.8923 - accuracy: 0.6826 - val_loss: 1.4375 - val_accuracy: 0.5263\n",
      "Epoch 34/100\n",
      "50000/50000 [==============================] - 2s 33us/sample - loss: 0.8770 - accuracy: 0.6879 - val_loss: 1.4619 - val_accuracy: 0.5252\n",
      "Epoch 35/100\n",
      "50000/50000 [==============================] - 1s 30us/sample - loss: 0.8637 - accuracy: 0.6914 - val_loss: 1.4583 - val_accuracy: 0.5265\n",
      "Epoch 36/100\n",
      "50000/50000 [==============================] - 1s 30us/sample - loss: 0.8484 - accuracy: 0.6965 - val_loss: 1.4920 - val_accuracy: 0.5219\n",
      "Epoch 37/100\n",
      "50000/50000 [==============================] - 2s 32us/sample - loss: 0.8216 - accuracy: 0.7072 - val_loss: 1.5354 - val_accuracy: 0.5220\n",
      "Epoch 38/100\n",
      "50000/50000 [==============================] - 2s 31us/sample - loss: 0.8127 - accuracy: 0.7113 - val_loss: 1.4955 - val_accuracy: 0.5260\n",
      "Epoch 39/100\n",
      "50000/50000 [==============================] - 2s 33us/sample - loss: 0.7998 - accuracy: 0.7147 - val_loss: 1.5402 - val_accuracy: 0.5324\n",
      "Epoch 40/100\n",
      "50000/50000 [==============================] - 1s 30us/sample - loss: 0.7771 - accuracy: 0.7229 - val_loss: 1.5612 - val_accuracy: 0.5196\n",
      "Epoch 41/100\n",
      "50000/50000 [==============================] - 1s 29us/sample - loss: 0.7602 - accuracy: 0.7295 - val_loss: 1.5676 - val_accuracy: 0.5192\n",
      "Epoch 42/100\n",
      "50000/50000 [==============================] - 1s 30us/sample - loss: 0.7488 - accuracy: 0.7325 - val_loss: 1.6103 - val_accuracy: 0.5206\n",
      "Epoch 43/100\n",
      "50000/50000 [==============================] - 2s 30us/sample - loss: 0.7403 - accuracy: 0.7357 - val_loss: 1.6419 - val_accuracy: 0.5258\n",
      "Epoch 44/100\n",
      "50000/50000 [==============================] - 1s 30us/sample - loss: 0.7179 - accuracy: 0.7440 - val_loss: 1.6699 - val_accuracy: 0.5166\n",
      "Epoch 45/100\n",
      "50000/50000 [==============================] - 1s 30us/sample - loss: 0.7069 - accuracy: 0.7488 - val_loss: 1.6664 - val_accuracy: 0.5199\n",
      "Epoch 46/100\n",
      "50000/50000 [==============================] - 1s 30us/sample - loss: 0.6871 - accuracy: 0.7552 - val_loss: 1.6755 - val_accuracy: 0.5248\n",
      "Epoch 47/100\n",
      "50000/50000 [==============================] - 2s 33us/sample - loss: 0.6868 - accuracy: 0.7545 - val_loss: 1.7041 - val_accuracy: 0.5182\n",
      "Epoch 48/100\n",
      "50000/50000 [==============================] - 2s 34us/sample - loss: 0.6731 - accuracy: 0.7595 - val_loss: 1.7475 - val_accuracy: 0.5222\n",
      "Epoch 49/100\n",
      "50000/50000 [==============================] - 2s 31us/sample - loss: 0.6599 - accuracy: 0.7655 - val_loss: 1.7325 - val_accuracy: 0.5188\n",
      "Epoch 50/100\n",
      "50000/50000 [==============================] - 1s 29us/sample - loss: 0.6440 - accuracy: 0.7682 - val_loss: 1.7984 - val_accuracy: 0.5107\n",
      "Epoch 51/100\n",
      "50000/50000 [==============================] - 2s 32us/sample - loss: 0.6276 - accuracy: 0.7779 - val_loss: 1.7839 - val_accuracy: 0.5237\n",
      "Epoch 52/100\n",
      "50000/50000 [==============================] - 2s 30us/sample - loss: 0.6134 - accuracy: 0.7809 - val_loss: 1.8543 - val_accuracy: 0.5158\n",
      "Epoch 53/100\n",
      "50000/50000 [==============================] - 1s 30us/sample - loss: 0.6010 - accuracy: 0.7856 - val_loss: 1.8357 - val_accuracy: 0.5188\n",
      "Epoch 54/100\n",
      "50000/50000 [==============================] - 1s 30us/sample - loss: 0.6032 - accuracy: 0.7843 - val_loss: 1.8954 - val_accuracy: 0.5142\n"
     ]
    },
    {
     "name": "stdout",
     "output_type": "stream",
     "text": [
      "Epoch 55/100\n",
      "50000/50000 [==============================] - 1s 29us/sample - loss: 0.5744 - accuracy: 0.7956 - val_loss: 1.9441 - val_accuracy: 0.5111\n",
      "Epoch 56/100\n",
      "50000/50000 [==============================] - 1s 29us/sample - loss: 0.5690 - accuracy: 0.7981 - val_loss: 1.9422 - val_accuracy: 0.5089\n",
      "Epoch 57/100\n",
      "50000/50000 [==============================] - 1s 29us/sample - loss: 0.5638 - accuracy: 0.7999 - val_loss: 2.0185 - val_accuracy: 0.5078\n",
      "Epoch 58/100\n",
      "50000/50000 [==============================] - 1s 29us/sample - loss: 0.5458 - accuracy: 0.8060 - val_loss: 2.0380 - val_accuracy: 0.5038\n",
      "Epoch 59/100\n",
      "50000/50000 [==============================] - 1s 29us/sample - loss: 0.5438 - accuracy: 0.8068 - val_loss: 2.0317 - val_accuracy: 0.5063\n",
      "Epoch 60/100\n",
      "50000/50000 [==============================] - 1s 30us/sample - loss: 0.5319 - accuracy: 0.8116 - val_loss: 2.0817 - val_accuracy: 0.5055\n",
      "Epoch 61/100\n",
      "50000/50000 [==============================] - 1s 29us/sample - loss: 0.5237 - accuracy: 0.8132 - val_loss: 2.0928 - val_accuracy: 0.5211\n",
      "Epoch 62/100\n",
      "50000/50000 [==============================] - 1s 29us/sample - loss: 0.5031 - accuracy: 0.8222 - val_loss: 2.1490 - val_accuracy: 0.4980\n",
      "Epoch 63/100\n",
      "50000/50000 [==============================] - 1s 29us/sample - loss: 0.5085 - accuracy: 0.8200 - val_loss: 2.1728 - val_accuracy: 0.5065\n",
      "Epoch 64/100\n",
      "50000/50000 [==============================] - 1s 29us/sample - loss: 0.4959 - accuracy: 0.8230 - val_loss: 2.2098 - val_accuracy: 0.5039\n",
      "Epoch 65/100\n",
      "50000/50000 [==============================] - 1s 29us/sample - loss: 0.4763 - accuracy: 0.8309 - val_loss: 2.2109 - val_accuracy: 0.5108\n",
      "Epoch 66/100\n",
      "50000/50000 [==============================] - 1s 29us/sample - loss: 0.4726 - accuracy: 0.8319 - val_loss: 2.2349 - val_accuracy: 0.5029\n",
      "Epoch 67/100\n",
      "50000/50000 [==============================] - 1s 30us/sample - loss: 0.4816 - accuracy: 0.8274 - val_loss: 2.2596 - val_accuracy: 0.5056\n",
      "Epoch 68/100\n",
      "50000/50000 [==============================] - 1s 29us/sample - loss: 0.4609 - accuracy: 0.8354 - val_loss: 2.2389 - val_accuracy: 0.5102\n",
      "Epoch 69/100\n",
      "50000/50000 [==============================] - 1s 29us/sample - loss: 0.4447 - accuracy: 0.8438 - val_loss: 2.3539 - val_accuracy: 0.5096\n",
      "Epoch 70/100\n",
      "50000/50000 [==============================] - 1s 29us/sample - loss: 0.4408 - accuracy: 0.8436 - val_loss: 2.3004 - val_accuracy: 0.5228\n",
      "Epoch 71/100\n",
      "50000/50000 [==============================] - 1s 29us/sample - loss: 0.4424 - accuracy: 0.8431 - val_loss: 2.3544 - val_accuracy: 0.5152\n",
      "Epoch 72/100\n",
      "50000/50000 [==============================] - 1s 30us/sample - loss: 0.4256 - accuracy: 0.8476 - val_loss: 2.4908 - val_accuracy: 0.5014\n",
      "Epoch 73/100\n",
      "50000/50000 [==============================] - 1s 29us/sample - loss: 0.4286 - accuracy: 0.8463 - val_loss: 2.3906 - val_accuracy: 0.5133\n",
      "Epoch 74/100\n",
      "50000/50000 [==============================] - 1s 29us/sample - loss: 0.4306 - accuracy: 0.8459 - val_loss: 2.4221 - val_accuracy: 0.5030\n",
      "Epoch 75/100\n",
      "50000/50000 [==============================] - 1s 29us/sample - loss: 0.3952 - accuracy: 0.8593 - val_loss: 2.4886 - val_accuracy: 0.5112\n",
      "Epoch 76/100\n",
      "50000/50000 [==============================] - 1s 30us/sample - loss: 0.3941 - accuracy: 0.8590 - val_loss: 2.5293 - val_accuracy: 0.5119\n",
      "Epoch 77/100\n",
      "50000/50000 [==============================] - 1s 29us/sample - loss: 0.4140 - accuracy: 0.8513 - val_loss: 2.5334 - val_accuracy: 0.5035\n",
      "Epoch 78/100\n",
      "50000/50000 [==============================] - 1s 29us/sample - loss: 0.3821 - accuracy: 0.8644 - val_loss: 2.5315 - val_accuracy: 0.5041\n",
      "Epoch 79/100\n",
      "50000/50000 [==============================] - 1s 30us/sample - loss: 0.3795 - accuracy: 0.8652 - val_loss: 2.6406 - val_accuracy: 0.4969\n",
      "Epoch 80/100\n",
      "50000/50000 [==============================] - 1s 30us/sample - loss: 0.3776 - accuracy: 0.8660 - val_loss: 2.7727 - val_accuracy: 0.4931\n",
      "Epoch 81/100\n",
      "50000/50000 [==============================] - 1s 30us/sample - loss: 0.3968 - accuracy: 0.8571 - val_loss: 2.6506 - val_accuracy: 0.5084\n",
      "Epoch 82/100\n",
      "50000/50000 [==============================] - 1s 30us/sample - loss: 0.3486 - accuracy: 0.8753 - val_loss: 2.7036 - val_accuracy: 0.4964\n",
      "Epoch 83/100\n",
      "50000/50000 [==============================] - 1s 29us/sample - loss: 0.3596 - accuracy: 0.8726 - val_loss: 2.7744 - val_accuracy: 0.5049\n",
      "Epoch 84/100\n",
      "50000/50000 [==============================] - 1s 29us/sample - loss: 0.3553 - accuracy: 0.8730 - val_loss: 2.7101 - val_accuracy: 0.5083\n",
      "Epoch 85/100\n",
      "50000/50000 [==============================] - 1s 29us/sample - loss: 0.3420 - accuracy: 0.8769 - val_loss: 2.7776 - val_accuracy: 0.4994\n",
      "Epoch 86/100\n",
      "50000/50000 [==============================] - 1s 29us/sample - loss: 0.3517 - accuracy: 0.8723 - val_loss: 2.7625 - val_accuracy: 0.5027\n",
      "Epoch 87/100\n",
      "50000/50000 [==============================] - 1s 30us/sample - loss: 0.3422 - accuracy: 0.8796 - val_loss: 2.8101 - val_accuracy: 0.5102\n",
      "Epoch 88/100\n",
      "50000/50000 [==============================] - 1s 30us/sample - loss: 0.3422 - accuracy: 0.8770 - val_loss: 2.7851 - val_accuracy: 0.5112\n",
      "Epoch 89/100\n",
      "50000/50000 [==============================] - 1s 30us/sample - loss: 0.3189 - accuracy: 0.8850 - val_loss: 2.9263 - val_accuracy: 0.4990\n",
      "Epoch 90/100\n",
      "50000/50000 [==============================] - 2s 32us/sample - loss: 0.3066 - accuracy: 0.8911 - val_loss: 2.9432 - val_accuracy: 0.4942\n",
      "Epoch 91/100\n",
      "50000/50000 [==============================] - 2s 33us/sample - loss: 0.3027 - accuracy: 0.8917 - val_loss: 3.0159 - val_accuracy: 0.5037\n",
      "Epoch 92/100\n",
      "50000/50000 [==============================] - 2s 31us/sample - loss: 0.3163 - accuracy: 0.8868 - val_loss: 3.1107 - val_accuracy: 0.5001\n",
      "Epoch 93/100\n",
      "50000/50000 [==============================] - 2s 31us/sample - loss: 0.3348 - accuracy: 0.8816 - val_loss: 3.0395 - val_accuracy: 0.4990\n",
      "Epoch 94/100\n",
      "50000/50000 [==============================] - 1s 30us/sample - loss: 0.3240 - accuracy: 0.8841 - val_loss: 3.0198 - val_accuracy: 0.4998\n",
      "Epoch 95/100\n",
      "50000/50000 [==============================] - 2s 30us/sample - loss: 0.3112 - accuracy: 0.8896 - val_loss: 3.1375 - val_accuracy: 0.4986\n",
      "Epoch 96/100\n",
      "50000/50000 [==============================] - 2s 30us/sample - loss: 0.3084 - accuracy: 0.8874 - val_loss: 3.1484 - val_accuracy: 0.4975\n",
      "Epoch 97/100\n",
      "50000/50000 [==============================] - 2s 30us/sample - loss: 0.2977 - accuracy: 0.8919 - val_loss: 3.1875 - val_accuracy: 0.5005\n",
      "Epoch 98/100\n",
      "50000/50000 [==============================] - 2s 30us/sample - loss: 0.2969 - accuracy: 0.8926 - val_loss: 3.1315 - val_accuracy: 0.5041\n",
      "Epoch 99/100\n",
      "50000/50000 [==============================] - 2s 30us/sample - loss: 0.2953 - accuracy: 0.8936 - val_loss: 3.2560 - val_accuracy: 0.4950\n",
      "Epoch 100/100\n",
      "50000/50000 [==============================] - 1s 30us/sample - loss: 0.2795 - accuracy: 0.9009 - val_loss: 3.2520 - val_accuracy: 0.5089\n"
     ]
    },
    {
     "data": {
      "text/plain": [
       "<tensorflow.python.keras.callbacks.History at 0x207211ce348>"
      ]
     },
     "execution_count": 19,
     "metadata": {},
     "output_type": "execute_result"
    }
   ],
   "source": [
    "model.fit(x_train, y_train, \n",
    "          epochs=EPOCHS, \n",
    "          batch_size=BATCH_SIZE, \n",
    "          validation_data=(x_test, y_test), \n",
    "          shuffle=True)"
   ]
  },
  {
   "cell_type": "code",
   "execution_count": 20,
   "metadata": {},
   "outputs": [
    {
     "data": {
      "image/png": "[encoded data removed]",
      "text/plain": [
       "<Figure size 432x288 with 1 Axes>"
      ]
     },
     "metadata": {
      "needs_background": "light"
     },
     "output_type": "display_data"
    },
    {
     "data": {
      "image/png": "[encoded data removed]",
      "text/plain": [
       "<Figure size 432x288 with 1 Axes>"
      ]
     },
     "metadata": {
      "needs_background": "light"
     },
     "output_type": "display_data"
    }
   ],
   "source": [
    "# 訓練模型並檢視驗證集的結果\n",
    "train_loss = model.history.history[\"loss\"]\n",
    "valid_loss = model.history.history[\"val_loss\"]\n",
    "\n",
    "train_acc = model.history.history[\"accuracy\"]\n",
    "valid_acc = model.history.history[\"val_accuracy\"]\n",
    "\n",
    "plt.plot(range(len(train_loss)), train_loss, label=\"train loss\")\n",
    "plt.plot(range(len(valid_loss)), valid_loss, label=\"valid loss\")\n",
    "plt.legend()\n",
    "plt.title(\"Loss\")\n",
    "plt.show()\n",
    "\n",
    "plt.plot(range(len(train_acc)), train_acc, label=\"train accuracy\")\n",
    "plt.plot(range(len(valid_acc)), valid_acc, label=\"valid accuracy\")\n",
    "plt.legend()\n",
    "plt.title(\"Accuracy\")\n",
    "plt.show()"
   ]
  },
  {
   "cell_type": "code",
   "execution_count": null,
   "metadata": {},
   "outputs": [],
   "source": []
  }
 ],
 "metadata": {
  "kernelspec": {
   "display_name": "Python 3",
   "language": "python",
   "name": "python3"
  },
  "language_info": {
   "codemirror_mode": {
    "name": "ipython",
    "version": 3
   },
   "file_extension": ".py",
   "mimetype": "text/x-python",
   "name": "python",
   "nbconvert_exporter": "python",
   "pygments_lexer": "ipython3",
   "version": "3.7.7"
  }
 },
 "nbformat": 4,
 "nbformat_minor": 4
}
