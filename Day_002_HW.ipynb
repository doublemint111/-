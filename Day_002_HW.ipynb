{
 "cells": [
  {
   "cell_type": "markdown",
   "metadata": {},
   "source": [
    "請找出一個你認為機器學習可以發光發熱的領域並闡述原因?"
   ]
  },
  {
   "cell_type": "markdown",
   "metadata": {},
   "source": [
    "醫療診斷，透過機器學習對重複工作較容易維持高精準度的特性，雖然並不能完全取代醫生的專業判斷，但是輔助醫生進行診斷可以說是綽綽有餘的，現實中也已經有協助醫生看X光片的AI醫療系統"
   ]
  },
  {
   "cell_type": "code",
   "execution_count": null,
   "metadata": {},
   "outputs": [],
   "source": []
  }
 ],
 "metadata": {
  "kernelspec": {
   "display_name": "Python 3",
   "language": "python",
   "name": "python3"
  },
  "language_info": {
   "codemirror_mode": {
    "name": "ipython",
    "version": 3
   },
   "file_extension": ".py",
   "mimetype": "text/x-python",
   "name": "python",
   "nbconvert_exporter": "python",
   "pygments_lexer": "ipython3",
   "version": "3.7.4"
  }
 },
 "nbformat": 4,
 "nbformat_minor": 2
}
