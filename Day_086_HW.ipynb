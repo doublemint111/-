{
 "cells": [
  {
   "cell_type": "code",
   "execution_count": 1,
   "metadata": {},
   "outputs": [],
   "source": [
    "import os\n",
    "import tensorflow.keras\n",
    "import itertools\n",
    "# Disable GPU\n",
    "os.environ[\"CUDA_VISIBLE_DEVICES\"] = \"\""
   ]
  },
  {
   "cell_type": "code",
   "execution_count": 2,
   "metadata": {},
   "outputs": [],
   "source": [
    "train, test = tensorflow.keras.datasets.cifar10.load_data()"
   ]
  },
  {
   "cell_type": "code",
   "execution_count": 3,
   "metadata": {},
   "outputs": [],
   "source": [
    "## 資料前處理\n",
    "def preproc_x(x, flatten=True):\n",
    "    x = x / 255.\n",
    "    if flatten:\n",
    "        x = x.reshape((len(x), -1))\n",
    "    return x\n",
    "\n",
    "def preproc_y(y, num_classes=10):\n",
    "    if y.shape[-1] == 1:\n",
    "        y = tensorflow.keras.utils.to_categorical(y, num_classes)\n",
    "    return y    "
   ]
  },
  {
   "cell_type": "code",
   "execution_count": 4,
   "metadata": {},
   "outputs": [],
   "source": [
    "x_train, y_train = train\n",
    "x_test, y_test = test\n",
    "\n",
    "# Preproc the inputs\n",
    "x_train = preproc_x(x_train)\n",
    "x_test = preproc_x(x_test)\n",
    "\n",
    "# Preprc the outputs\n",
    "y_train = preproc_y(y_train)\n",
    "y_test = preproc_y(y_test)"
   ]
  },
  {
   "cell_type": "code",
   "execution_count": 5,
   "metadata": {},
   "outputs": [],
   "source": [
    "from tensorflow.keras.layers import BatchNormalization\n",
    "\n",
    "\"\"\"\n",
    "建立神經網路，並加入 BN layer\n",
    "\"\"\"\n",
    "def build_mlp(input_shape, output_units=10, num_neurons=[512, 256, 128]):\n",
    "    input_layer = tensorflow.keras.layers.Input(input_shape)\n",
    "    \n",
    "    for i, n_units in enumerate(num_neurons):\n",
    "        if i == 0:\n",
    "            x = tensorflow.keras.layers.Dense(units=n_units, \n",
    "                                   activation=\"relu\", \n",
    "                                   name=\"hidden_layer\"+str(i+1))(input_layer)\n",
    "            x = BatchNormalization()(x)\n",
    "        else:\n",
    "            x = tensorflow.keras.layers.Dense(units=n_units, \n",
    "                                   activation=\"relu\", \n",
    "                                   name=\"hidden_layer\"+str(i+1))(x)\n",
    "            x = BatchNormalization()(x)\n",
    "    \n",
    "    out = tensorflow.keras.layers.Dense(units=output_units, activation=\"softmax\", name=\"output\")(x)\n",
    "    \n",
    "    model = tensorflow.keras.models.Model(inputs=[input_layer], outputs=[out])\n",
    "    return model"
   ]
  },
  {
   "cell_type": "code",
   "execution_count": 6,
   "metadata": {},
   "outputs": [],
   "source": [
    "## 超參數設定\n",
    "LEARNING_RATE = 1e-3\n",
    "EPOCHS = 50\n",
    "BATCH_SIZE = 1024\n",
    "MOMENTUM = 0.95"
   ]
  },
  {
   "cell_type": "code",
   "execution_count": 7,
   "metadata": {},
   "outputs": [],
   "source": [
    "\"\"\"\n",
    "# 載入 Callbacks, 並將監控目標設為 validation loss, 且只存最佳參數時的模型\n",
    "\"\"\"\n",
    "from tensorflow.keras.callbacks import ModelCheckpoint\n",
    "\n",
    "model_ckpt = ModelCheckpoint(filepath=\"./tmp.h5\", \n",
    "                             monitor=\"val_loss\", \n",
    "                             save_best_only=True)"
   ]
  },
  {
   "cell_type": "code",
   "execution_count": 9,
   "metadata": {},
   "outputs": [
    {
     "name": "stdout",
     "output_type": "stream",
     "text": [
      "Model: \"model_1\"\n",
      "_________________________________________________________________\n",
      "Layer (type)                 Output Shape              Param #   \n",
      "=================================================================\n",
      "input_2 (InputLayer)         [(None, 3072)]            0         \n",
      "_________________________________________________________________\n",
      "hidden_layer1 (Dense)        (None, 512)               1573376   \n",
      "_________________________________________________________________\n",
      "batch_normalization_3 (Batch (None, 512)               2048      \n",
      "_________________________________________________________________\n",
      "hidden_layer2 (Dense)        (None, 256)               131328    \n",
      "_________________________________________________________________\n",
      "batch_normalization_4 (Batch (None, 256)               1024      \n",
      "_________________________________________________________________\n",
      "hidden_layer3 (Dense)        (None, 128)               32896     \n",
      "_________________________________________________________________\n",
      "batch_normalization_5 (Batch (None, 128)               512       \n",
      "_________________________________________________________________\n",
      "output (Dense)               (None, 10)                1290      \n",
      "=================================================================\n",
      "Total params: 1,742,474\n",
      "Trainable params: 1,740,682\n",
      "Non-trainable params: 1,792\n",
      "_________________________________________________________________\n",
      "Train on 50000 samples, validate on 10000 samples\n",
      "Epoch 1/50\n",
      "50000/50000 [==============================] - 2s 34us/sample - loss: 2.2454 - accuracy: 0.2651 - val_loss: 2.1302 - val_accuracy: 0.2191\n",
      "Epoch 2/50\n",
      "50000/50000 [==============================] - 1s 21us/sample - loss: 1.7503 - accuracy: 0.3909 - val_loss: 1.9393 - val_accuracy: 0.3023\n",
      "Epoch 3/50\n",
      "50000/50000 [==============================] - 1s 21us/sample - loss: 1.6247 - accuracy: 0.4332 - val_loss: 1.7973 - val_accuracy: 0.3792\n",
      "Epoch 4/50\n",
      "50000/50000 [==============================] - 1s 20us/sample - loss: 1.5500 - accuracy: 0.4570 - val_loss: 1.7022 - val_accuracy: 0.4123\n",
      "Epoch 5/50\n",
      "50000/50000 [==============================] - 1s 21us/sample - loss: 1.4952 - accuracy: 0.4761 - val_loss: 1.6246 - val_accuracy: 0.4397\n",
      "Epoch 6/50\n",
      "50000/50000 [==============================] - 1s 21us/sample - loss: 1.4484 - accuracy: 0.4904 - val_loss: 1.5756 - val_accuracy: 0.4478\n",
      "Epoch 7/50\n",
      "50000/50000 [==============================] - 1s 20us/sample - loss: 1.4090 - accuracy: 0.5069 - val_loss: 1.5524 - val_accuracy: 0.4511\n",
      "Epoch 8/50\n",
      "50000/50000 [==============================] - 1s 20us/sample - loss: 1.3748 - accuracy: 0.5205 - val_loss: 1.5239 - val_accuracy: 0.4636\n",
      "Epoch 9/50\n",
      "50000/50000 [==============================] - 1s 20us/sample - loss: 1.3423 - accuracy: 0.5327 - val_loss: 1.4981 - val_accuracy: 0.4696\n",
      "Epoch 10/50\n",
      "50000/50000 [==============================] - 1s 20us/sample - loss: 1.3120 - accuracy: 0.5435 - val_loss: 1.4924 - val_accuracy: 0.4718\n",
      "Epoch 11/50\n",
      "50000/50000 [==============================] - 1s 20us/sample - loss: 1.2842 - accuracy: 0.5536 - val_loss: 1.4831 - val_accuracy: 0.4815\n",
      "Epoch 12/50\n",
      "50000/50000 [==============================] - 1s 20us/sample - loss: 1.2567 - accuracy: 0.5647 - val_loss: 1.4738 - val_accuracy: 0.4769\n",
      "Epoch 13/50\n",
      "50000/50000 [==============================] - 1s 21us/sample - loss: 1.2321 - accuracy: 0.5725 - val_loss: 1.4648 - val_accuracy: 0.4854\n",
      "Epoch 14/50\n",
      "50000/50000 [==============================] - 1s 20us/sample - loss: 1.2047 - accuracy: 0.5829 - val_loss: 1.4813 - val_accuracy: 0.4745\n",
      "Epoch 15/50\n",
      "50000/50000 [==============================] - 1s 22us/sample - loss: 1.1836 - accuracy: 0.5916 - val_loss: 1.4562 - val_accuracy: 0.4904\n",
      "Epoch 16/50\n",
      "50000/50000 [==============================] - 1s 20us/sample - loss: 1.1593 - accuracy: 0.6019 - val_loss: 1.4596 - val_accuracy: 0.4889\n",
      "Epoch 17/50\n",
      "50000/50000 [==============================] - 1s 22us/sample - loss: 1.1400 - accuracy: 0.6097 - val_loss: 1.4558 - val_accuracy: 0.4888\n",
      "Epoch 18/50\n",
      "50000/50000 [==============================] - 1s 21us/sample - loss: 1.1159 - accuracy: 0.6182 - val_loss: 1.4544 - val_accuracy: 0.4871\n",
      "Epoch 19/50\n",
      "50000/50000 [==============================] - 1s 22us/sample - loss: 1.0911 - accuracy: 0.6272 - val_loss: 1.4493 - val_accuracy: 0.4937\n",
      "Epoch 20/50\n",
      "50000/50000 [==============================] - 1s 20us/sample - loss: 1.0700 - accuracy: 0.6348 - val_loss: 1.4574 - val_accuracy: 0.4910\n",
      "Epoch 21/50\n",
      "50000/50000 [==============================] - ETA: 0s - loss: 1.0495 - accuracy: 0.64 - 1s 20us/sample - loss: 1.0505 - accuracy: 0.6431 - val_loss: 1.4632 - val_accuracy: 0.4899\n",
      "Epoch 22/50\n",
      "50000/50000 [==============================] - 1s 20us/sample - loss: 1.0275 - accuracy: 0.6524 - val_loss: 1.4555 - val_accuracy: 0.4935\n",
      "Epoch 23/50\n",
      "50000/50000 [==============================] - 1s 20us/sample - loss: 1.0079 - accuracy: 0.6584 - val_loss: 1.4677 - val_accuracy: 0.4905\n",
      "Epoch 24/50\n",
      "50000/50000 [==============================] - 1s 20us/sample - loss: 0.9880 - accuracy: 0.6674 - val_loss: 1.4653 - val_accuracy: 0.4932\n",
      "Epoch 25/50\n",
      "50000/50000 [==============================] - 1s 20us/sample - loss: 0.9673 - accuracy: 0.6740 - val_loss: 1.4673 - val_accuracy: 0.4941\n",
      "Epoch 26/50\n",
      "50000/50000 [==============================] - 1s 20us/sample - loss: 0.9469 - accuracy: 0.6822 - val_loss: 1.4723 - val_accuracy: 0.4944\n",
      "Epoch 27/50\n",
      "50000/50000 [==============================] - 1s 20us/sample - loss: 0.9247 - accuracy: 0.6893 - val_loss: 1.4692 - val_accuracy: 0.4918\n",
      "Epoch 28/50\n",
      "50000/50000 [==============================] - 1s 20us/sample - loss: 0.9050 - accuracy: 0.6976 - val_loss: 1.4758 - val_accuracy: 0.4924\n",
      "Epoch 29/50\n",
      "50000/50000 [==============================] - 1s 20us/sample - loss: 0.8863 - accuracy: 0.7070 - val_loss: 1.4777 - val_accuracy: 0.4918\n",
      "Epoch 30/50\n",
      "50000/50000 [==============================] - 1s 20us/sample - loss: 0.8658 - accuracy: 0.7128 - val_loss: 1.4810 - val_accuracy: 0.4954\n",
      "Epoch 31/50\n",
      "50000/50000 [==============================] - 1s 20us/sample - loss: 0.8454 - accuracy: 0.7228 - val_loss: 1.5018 - val_accuracy: 0.4934\n",
      "Epoch 32/50\n",
      "50000/50000 [==============================] - 1s 20us/sample - loss: 0.8268 - accuracy: 0.7302 - val_loss: 1.5049 - val_accuracy: 0.4922\n",
      "Epoch 33/50\n",
      "50000/50000 [==============================] - 1s 20us/sample - loss: 0.8078 - accuracy: 0.7366 - val_loss: 1.5158 - val_accuracy: 0.4882\n",
      "Epoch 34/50\n",
      "50000/50000 [==============================] - 1s 20us/sample - loss: 0.7875 - accuracy: 0.7438 - val_loss: 1.5028 - val_accuracy: 0.4888\n",
      "Epoch 35/50\n",
      "50000/50000 [==============================] - 1s 20us/sample - loss: 0.7693 - accuracy: 0.7523 - val_loss: 1.5117 - val_accuracy: 0.4919\n",
      "Epoch 36/50\n",
      "50000/50000 [==============================] - 1s 21us/sample - loss: 0.7488 - accuracy: 0.7611 - val_loss: 1.5215 - val_accuracy: 0.4883\n",
      "Epoch 37/50\n",
      "50000/50000 [==============================] - 1s 20us/sample - loss: 0.7296 - accuracy: 0.7685 - val_loss: 1.5406 - val_accuracy: 0.4884\n",
      "Epoch 38/50\n",
      "50000/50000 [==============================] - 1s 20us/sample - loss: 0.7115 - accuracy: 0.7753 - val_loss: 1.5411 - val_accuracy: 0.4924\n",
      "Epoch 39/50\n",
      "50000/50000 [==============================] - 1s 21us/sample - loss: 0.6931 - accuracy: 0.7821 - val_loss: 1.5614 - val_accuracy: 0.4873\n",
      "Epoch 40/50\n",
      "50000/50000 [==============================] - 1s 21us/sample - loss: 0.6727 - accuracy: 0.7905 - val_loss: 1.5521 - val_accuracy: 0.4859\n",
      "Epoch 41/50\n",
      "50000/50000 [==============================] - 1s 20us/sample - loss: 0.6570 - accuracy: 0.7972 - val_loss: 1.5595 - val_accuracy: 0.4884\n",
      "Epoch 42/50\n",
      "50000/50000 [==============================] - 1s 21us/sample - loss: 0.6394 - accuracy: 0.8037 - val_loss: 1.5841 - val_accuracy: 0.4848\n",
      "Epoch 43/50\n",
      "50000/50000 [==============================] - 1s 22us/sample - loss: 0.6195 - accuracy: 0.8116 - val_loss: 1.5825 - val_accuracy: 0.4883\n",
      "Epoch 44/50\n",
      "50000/50000 [==============================] - 1s 20us/sample - loss: 0.6024 - accuracy: 0.8193 - val_loss: 1.5910 - val_accuracy: 0.4894\n",
      "Epoch 45/50\n"
     ]
    },
    {
     "name": "stdout",
     "output_type": "stream",
     "text": [
      "50000/50000 [==============================] - 1s 20us/sample - loss: 0.5855 - accuracy: 0.8250 - val_loss: 1.6239 - val_accuracy: 0.4843\n",
      "Epoch 46/50\n",
      "50000/50000 [==============================] - 1s 20us/sample - loss: 0.5677 - accuracy: 0.8329 - val_loss: 1.6288 - val_accuracy: 0.4859\n",
      "Epoch 47/50\n",
      "50000/50000 [==============================] - 1s 20us/sample - loss: 0.5521 - accuracy: 0.8374 - val_loss: 1.6428 - val_accuracy: 0.4824\n",
      "Epoch 48/50\n",
      "50000/50000 [==============================] - 1s 21us/sample - loss: 0.5348 - accuracy: 0.8453 - val_loss: 1.6486 - val_accuracy: 0.4863\n",
      "Epoch 49/50\n",
      "50000/50000 [==============================] - 1s 20us/sample - loss: 0.5177 - accuracy: 0.8528 - val_loss: 1.6687 - val_accuracy: 0.4839\n",
      "Epoch 50/50\n",
      "50000/50000 [==============================] - 1s 19us/sample - loss: 0.5018 - accuracy: 0.8582 - val_loss: 1.6603 - val_accuracy: 0.4886\n",
      "10000/10000 [==============================] - 1s 77us/sample - loss: 1.4493 - accuracy: 0.4937\n"
     ]
    }
   ],
   "source": [
    "model = build_mlp(input_shape=x_train.shape[1:])\n",
    "model.summary()\n",
    "optimizer = tensorflow.keras.optimizers.SGD(lr=LEARNING_RATE, nesterov=True, momentum=MOMENTUM)\n",
    "model.compile(loss=\"categorical_crossentropy\", metrics=[\"accuracy\"], optimizer=optimizer)\n",
    "\n",
    "model.fit(x_train, y_train, \n",
    "          epochs=EPOCHS, \n",
    "          batch_size=BATCH_SIZE, \n",
    "          validation_data=(x_test, y_test), \n",
    "          shuffle=True,\n",
    "          callbacks=[model_ckpt]\n",
    "         )\n",
    "\n",
    "# Collect results\n",
    "train_loss = model.history.history[\"loss\"]\n",
    "valid_loss = model.history.history[\"val_loss\"]\n",
    "train_acc = model.history.history[\"accuracy\"]\n",
    "valid_acc = model.history.history[\"val_accuracy\"]\n",
    "\n",
    "# Load back\n",
    "model = tensorflow.keras.models.load_model(\"./tmp.h5\")\n",
    "loss_loadback, acc_loadback = model.evaluate(x_test, y_test)"
   ]
  },
  {
   "cell_type": "code",
   "execution_count": 10,
   "metadata": {},
   "outputs": [
    {
     "data": {
      "image/png": "[encoded data removed]",
      "text/plain": [
       "<Figure size 432x288 with 1 Axes>"
      ]
     },
     "metadata": {
      "needs_background": "light"
     },
     "output_type": "display_data"
    },
    {
     "data": {
      "image/png": "[encoded data removed]",
      "text/plain": [
       "<Figure size 432x288 with 1 Axes>"
      ]
     },
     "metadata": {
      "needs_background": "light"
     },
     "output_type": "display_data"
    }
   ],
   "source": [
    "import matplotlib.pyplot as plt\n",
    "%matplotlib inline\n",
    "\n",
    "plt.plot(range(len(train_loss)), train_loss, label=\"train loss\")\n",
    "plt.plot(range(len(valid_loss)), valid_loss, label=\"valid loss\")\n",
    "plt.hlines(y=loss_loadback, xmin=0, xmax=len(train_loss), colors='r', linestyles='--')\n",
    "plt.legend()\n",
    "plt.title(\"Loss\")\n",
    "plt.show()\n",
    "\n",
    "plt.plot(range(len(train_acc)), train_acc, label=\"train accuracy\")\n",
    "plt.plot(range(len(valid_acc)), valid_acc, label=\"valid accuracy\")\n",
    "plt.hlines(y=acc_loadback, xmin=0, xmax=len(train_loss), colors='r', linestyles='--')\n",
    "plt.legend()\n",
    "plt.title(\"Accuracy\")\n",
    "plt.show()"
   ]
  },
  {
   "cell_type": "code",
   "execution_count": null,
   "metadata": {},
   "outputs": [],
   "source": []
  },
  {
   "cell_type": "markdown",
   "metadata": {},
   "source": [
    "## Work\n",
    "\n",
    "試比較 save_best_only 與否的差異\n",
    "\n",
    "請僅存入將 save_weights_only 設定為 True, 並嘗試 reset ipynb 並將模型與權重重新建回並預測 x_test"
   ]
  },
  {
   "cell_type": "code",
   "execution_count": 11,
   "metadata": {},
   "outputs": [],
   "source": [
    "## 超參數設定\n",
    "LEARNING_RATE = 1e-3\n",
    "EPOCHS = 50\n",
    "BATCH_SIZE = 1024\n",
    "MOMENTUM = 0.95"
   ]
  },
  {
   "cell_type": "code",
   "execution_count": 12,
   "metadata": {},
   "outputs": [],
   "source": [
    "# 載入 Callbacks\n",
    "model_ckpt = ModelCheckpoint(filepath=\"./tmp.h5\", \n",
    "                             monitor=\"val_loss\", \n",
    "                             save_best_only=True)"
   ]
  },
  {
   "cell_type": "code",
   "execution_count": 13,
   "metadata": {},
   "outputs": [
    {
     "name": "stdout",
     "output_type": "stream",
     "text": [
      "Model: \"model_2\"\n",
      "_________________________________________________________________\n",
      "Layer (type)                 Output Shape              Param #   \n",
      "=================================================================\n",
      "input_3 (InputLayer)         [(None, 3072)]            0         \n",
      "_________________________________________________________________\n",
      "hidden_layer1 (Dense)        (None, 512)               1573376   \n",
      "_________________________________________________________________\n",
      "batch_normalization_6 (Batch (None, 512)               2048      \n",
      "_________________________________________________________________\n",
      "hidden_layer2 (Dense)        (None, 256)               131328    \n",
      "_________________________________________________________________\n",
      "batch_normalization_7 (Batch (None, 256)               1024      \n",
      "_________________________________________________________________\n",
      "hidden_layer3 (Dense)        (None, 128)               32896     \n",
      "_________________________________________________________________\n",
      "batch_normalization_8 (Batch (None, 128)               512       \n",
      "_________________________________________________________________\n",
      "output (Dense)               (None, 10)                1290      \n",
      "=================================================================\n",
      "Total params: 1,742,474\n",
      "Trainable params: 1,740,682\n",
      "Non-trainable params: 1,792\n",
      "_________________________________________________________________\n",
      "Train on 50000 samples, validate on 10000 samples\n",
      "Epoch 1/50\n",
      "50000/50000 [==============================] - 2s 34us/sample - loss: 2.2041 - accuracy: 0.2666 - val_loss: 2.1372 - val_accuracy: 0.2035\n",
      "Epoch 2/50\n",
      "50000/50000 [==============================] - 1s 22us/sample - loss: 1.7387 - accuracy: 0.3939 - val_loss: 1.9730 - val_accuracy: 0.2871\n",
      "Epoch 3/50\n",
      "50000/50000 [==============================] - 1s 21us/sample - loss: 1.6220 - accuracy: 0.4302 - val_loss: 1.8297 - val_accuracy: 0.3637\n",
      "Epoch 4/50\n",
      "50000/50000 [==============================] - 1s 22us/sample - loss: 1.5532 - accuracy: 0.4544 - val_loss: 1.7311 - val_accuracy: 0.4035\n",
      "Epoch 5/50\n",
      "50000/50000 [==============================] - 1s 23us/sample - loss: 1.4986 - accuracy: 0.4738 - val_loss: 1.6340 - val_accuracy: 0.4295\n",
      "Epoch 6/50\n",
      "50000/50000 [==============================] - 1s 23us/sample - loss: 1.4560 - accuracy: 0.4896 - val_loss: 1.5925 - val_accuracy: 0.4357\n",
      "Epoch 7/50\n",
      "50000/50000 [==============================] - 1s 23us/sample - loss: 1.4187 - accuracy: 0.5036 - val_loss: 1.5538 - val_accuracy: 0.4496\n",
      "Epoch 8/50\n",
      "50000/50000 [==============================] - 1s 23us/sample - loss: 1.3845 - accuracy: 0.5150 - val_loss: 1.5260 - val_accuracy: 0.4597\n",
      "Epoch 9/50\n",
      "50000/50000 [==============================] - 1s 22us/sample - loss: 1.3533 - accuracy: 0.5265 - val_loss: 1.5114 - val_accuracy: 0.4653\n",
      "Epoch 10/50\n",
      "50000/50000 [==============================] - 1s 22us/sample - loss: 1.3231 - accuracy: 0.5380 - val_loss: 1.5095 - val_accuracy: 0.4640\n",
      "Epoch 11/50\n",
      "50000/50000 [==============================] - 1s 22us/sample - loss: 1.2970 - accuracy: 0.5469 - val_loss: 1.4873 - val_accuracy: 0.4745\n",
      "Epoch 12/50\n",
      "50000/50000 [==============================] - 1s 20us/sample - loss: 1.2690 - accuracy: 0.5584 - val_loss: 1.4933 - val_accuracy: 0.4749\n",
      "Epoch 13/50\n",
      "50000/50000 [==============================] - 1s 22us/sample - loss: 1.2448 - accuracy: 0.5663 - val_loss: 1.4829 - val_accuracy: 0.4783\n",
      "Epoch 14/50\n",
      "50000/50000 [==============================] - 1s 21us/sample - loss: 1.2181 - accuracy: 0.5776 - val_loss: 1.4737 - val_accuracy: 0.4798\n",
      "Epoch 15/50\n",
      "50000/50000 [==============================] - 1s 21us/sample - loss: 1.1954 - accuracy: 0.5876 - val_loss: 1.4815 - val_accuracy: 0.4797\n",
      "Epoch 16/50\n",
      "50000/50000 [==============================] - 1s 21us/sample - loss: 1.1712 - accuracy: 0.5965 - val_loss: 1.4773 - val_accuracy: 0.4790\n",
      "Epoch 17/50\n",
      "50000/50000 [==============================] - 1s 22us/sample - loss: 1.1504 - accuracy: 0.6036 - val_loss: 1.4677 - val_accuracy: 0.4835\n",
      "Epoch 18/50\n",
      "50000/50000 [==============================] - 1s 22us/sample - loss: 1.1284 - accuracy: 0.6114 - val_loss: 1.4618 - val_accuracy: 0.4860\n",
      "Epoch 19/50\n",
      "50000/50000 [==============================] - 1s 22us/sample - loss: 1.1036 - accuracy: 0.6214 - val_loss: 1.4500 - val_accuracy: 0.4928\n",
      "Epoch 20/50\n",
      "50000/50000 [==============================] - 1s 21us/sample - loss: 1.0836 - accuracy: 0.6294 - val_loss: 1.4671 - val_accuracy: 0.4862\n",
      "Epoch 21/50\n",
      "50000/50000 [==============================] - 1s 21us/sample - loss: 1.0616 - accuracy: 0.6384 - val_loss: 1.4690 - val_accuracy: 0.4886\n",
      "Epoch 22/50\n",
      "50000/50000 [==============================] - 1s 20us/sample - loss: 1.0406 - accuracy: 0.6460 - val_loss: 1.4684 - val_accuracy: 0.4899\n",
      "Epoch 23/50\n",
      "50000/50000 [==============================] - 1s 20us/sample - loss: 1.0180 - accuracy: 0.6551 - val_loss: 1.4771 - val_accuracy: 0.4920\n",
      "Epoch 24/50\n",
      "50000/50000 [==============================] - 1s 21us/sample - loss: 0.9988 - accuracy: 0.6631 - val_loss: 1.4683 - val_accuracy: 0.4899\n",
      "Epoch 25/50\n",
      "50000/50000 [==============================] - 1s 22us/sample - loss: 0.9771 - accuracy: 0.6722 - val_loss: 1.4628 - val_accuracy: 0.4939\n",
      "Epoch 26/50\n",
      "50000/50000 [==============================] - 1s 22us/sample - loss: 0.9573 - accuracy: 0.6795 - val_loss: 1.4614 - val_accuracy: 0.4998\n",
      "Epoch 27/50\n",
      "50000/50000 [==============================] - 1s 21us/sample - loss: 0.9358 - accuracy: 0.6878 - val_loss: 1.4620 - val_accuracy: 0.4972\n",
      "Epoch 28/50\n",
      "50000/50000 [==============================] - 1s 22us/sample - loss: 0.9153 - accuracy: 0.6965 - val_loss: 1.4761 - val_accuracy: 0.4949\n",
      "Epoch 29/50\n",
      "50000/50000 [==============================] - 1s 22us/sample - loss: 0.8967 - accuracy: 0.7015 - val_loss: 1.4625 - val_accuracy: 0.5007\n",
      "Epoch 30/50\n",
      "50000/50000 [==============================] - 1s 21us/sample - loss: 0.8757 - accuracy: 0.7114 - val_loss: 1.4782 - val_accuracy: 0.4941\n",
      "Epoch 31/50\n",
      "50000/50000 [==============================] - 1s 21us/sample - loss: 0.8569 - accuracy: 0.7184 - val_loss: 1.4816 - val_accuracy: 0.5047\n",
      "Epoch 32/50\n",
      "50000/50000 [==============================] - 1s 21us/sample - loss: 0.8356 - accuracy: 0.7260 - val_loss: 1.5103 - val_accuracy: 0.4940\n",
      "Epoch 33/50\n",
      "50000/50000 [==============================] - 1s 21us/sample - loss: 0.8172 - accuracy: 0.7346 - val_loss: 1.5110 - val_accuracy: 0.4911\n",
      "Epoch 34/50\n",
      "50000/50000 [==============================] - 1s 21us/sample - loss: 0.7981 - accuracy: 0.7406 - val_loss: 1.5375 - val_accuracy: 0.4867\n",
      "Epoch 35/50\n",
      "50000/50000 [==============================] - 1s 21us/sample - loss: 0.7783 - accuracy: 0.7504 - val_loss: 1.4998 - val_accuracy: 0.4992\n",
      "Epoch 36/50\n",
      "50000/50000 [==============================] - 1s 20us/sample - loss: 0.7599 - accuracy: 0.7564 - val_loss: 1.5149 - val_accuracy: 0.4969\n",
      "Epoch 37/50\n",
      "50000/50000 [==============================] - 1s 20us/sample - loss: 0.7400 - accuracy: 0.7636 - val_loss: 1.5240 - val_accuracy: 0.4963\n",
      "Epoch 38/50\n",
      "50000/50000 [==============================] - 1s 21us/sample - loss: 0.7225 - accuracy: 0.7704 - val_loss: 1.5544 - val_accuracy: 0.4932\n",
      "Epoch 39/50\n",
      "50000/50000 [==============================] - 1s 20us/sample - loss: 0.7048 - accuracy: 0.7764 - val_loss: 1.5460 - val_accuracy: 0.4967\n",
      "Epoch 40/50\n",
      "50000/50000 [==============================] - 1s 21us/sample - loss: 0.6851 - accuracy: 0.7872 - val_loss: 1.5665 - val_accuracy: 0.4972\n",
      "Epoch 41/50\n",
      "50000/50000 [==============================] - 1s 21us/sample - loss: 0.6667 - accuracy: 0.7936 - val_loss: 1.5635 - val_accuracy: 0.4924\n",
      "Epoch 42/50\n",
      "50000/50000 [==============================] - 1s 20us/sample - loss: 0.6468 - accuracy: 0.8013 - val_loss: 1.5813 - val_accuracy: 0.4889\n",
      "Epoch 43/50\n",
      "50000/50000 [==============================] - 1s 20us/sample - loss: 0.6315 - accuracy: 0.8077 - val_loss: 1.5981 - val_accuracy: 0.4929\n",
      "Epoch 44/50\n",
      "50000/50000 [==============================] - 1s 21us/sample - loss: 0.6127 - accuracy: 0.8146 - val_loss: 1.6019 - val_accuracy: 0.4888\n",
      "Epoch 45/50\n"
     ]
    },
    {
     "name": "stdout",
     "output_type": "stream",
     "text": [
      "50000/50000 [==============================] - 1s 21us/sample - loss: 0.5946 - accuracy: 0.8225 - val_loss: 1.6097 - val_accuracy: 0.4909\n",
      "Epoch 46/50\n",
      "50000/50000 [==============================] - 1s 21us/sample - loss: 0.5768 - accuracy: 0.8288 - val_loss: 1.6160 - val_accuracy: 0.4923\n",
      "Epoch 47/50\n",
      "50000/50000 [==============================] - 1s 21us/sample - loss: 0.5591 - accuracy: 0.8367 - val_loss: 1.6264 - val_accuracy: 0.4949\n",
      "Epoch 48/50\n",
      "50000/50000 [==============================] - 1s 20us/sample - loss: 0.5429 - accuracy: 0.8408 - val_loss: 1.6341 - val_accuracy: 0.4961\n",
      "Epoch 49/50\n",
      "50000/50000 [==============================] - 1s 20us/sample - loss: 0.5270 - accuracy: 0.8503 - val_loss: 1.6512 - val_accuracy: 0.4882\n",
      "Epoch 50/50\n",
      "50000/50000 [==============================] - 1s 20us/sample - loss: 0.5117 - accuracy: 0.8546 - val_loss: 1.6477 - val_accuracy: 0.4949\n"
     ]
    }
   ],
   "source": [
    "model = build_mlp(input_shape=x_train.shape[1:])\n",
    "model.summary()\n",
    "optimizer = tensorflow.keras.optimizers.SGD(lr=LEARNING_RATE, nesterov=True, momentum=MOMENTUM)\n",
    "model.compile(loss=\"categorical_crossentropy\", metrics=[\"accuracy\"], optimizer=optimizer)\n",
    "\n",
    "model.fit(x_train, y_train, \n",
    "          epochs=EPOCHS, \n",
    "          batch_size=BATCH_SIZE, \n",
    "          validation_data=(x_test, y_test), \n",
    "          shuffle=True,\n",
    "          callbacks=[model_ckpt]\n",
    "         )\n",
    "model.save(\"final_model.h5\")\n",
    "model.save_weights(\"model_weights.h5\")\n",
    "# Collect results\n",
    "train_loss = model.history.history[\"loss\"]\n",
    "valid_loss = model.history.history[\"val_loss\"]\n",
    "train_acc = model.history.history[\"accuracy\"]\n",
    "valid_acc = model.history.history[\"val_accuracy\"]\n",
    "\n",
    "pred_final = model.predict(x_test)\n",
    "# Load back\n",
    "model = tensorflow.keras.models.load_model(\"./tmp.h5\")\n",
    "pred_loadback = model.predict(x_test)"
   ]
  },
  {
   "cell_type": "code",
   "execution_count": 14,
   "metadata": {},
   "outputs": [
    {
     "name": "stdout",
     "output_type": "stream",
     "text": [
      "Accuracy of final weights: 0.495\n",
      "Accuracy of best weights: 0.493\n"
     ]
    }
   ],
   "source": [
    "from sklearn.metrics import accuracy_score\n",
    "\n",
    "final_model_acc = accuracy_score(y_true=y_test.argmax(axis=-1), y_pred=pred_final.argmax(axis=-1))\n",
    "loadback_acc = accuracy_score(y_true=y_test.argmax(axis=-1), y_pred=pred_loadback.argmax(axis=-1))\n",
    "\n",
    "print(\"Accuracy of final weights: %.3f\" % final_model_acc)\n",
    "print(\"Accuracy of best weights: %.3f\" % loadback_acc)"
   ]
  },
  {
   "cell_type": "code",
   "execution_count": 15,
   "metadata": {},
   "outputs": [
    {
     "name": "stdout",
     "output_type": "stream",
     "text": [
      "Accuracy of best weights: 0.130\n",
      "Accuracy of best weights: 0.495\n"
     ]
    }
   ],
   "source": [
    "new_model = build_mlp(input_shape=x_train.shape[1:])\n",
    "new_model_pred = new_model.predict(x_test)\n",
    "new_model_acc = accuracy_score(y_true=y_test.argmax(axis=-1), y_pred=new_model_pred.argmax(axis=-1))\n",
    "print(\"Accuracy of best weights: %.3f\" % new_model_acc)\n",
    "\n",
    "new_model.load_weights(\"./model_weights.h5\")\n",
    "new_model_pred = new_model.predict(x_test)\n",
    "new_model_loadback_acc = accuracy_score(y_true=y_test.argmax(axis=-1), y_pred=new_model_pred.argmax(axis=-1))\n",
    "print(\"Accuracy of best weights: %.3f\" % new_model_loadback_acc)"
   ]
  },
  {
   "cell_type": "code",
   "execution_count": null,
   "metadata": {},
   "outputs": [],
   "source": []
  }
 ],
 "metadata": {
  "kernelspec": {
   "display_name": "Python 3",
   "language": "python",
   "name": "python3"
  },
  "language_info": {
   "codemirror_mode": {
    "name": "ipython",
    "version": 3
   },
   "file_extension": ".py",
   "mimetype": "text/x-python",
   "name": "python",
   "nbconvert_exporter": "python",
   "pygments_lexer": "ipython3",
   "version": "3.7.7"
  }
 },
 "nbformat": 4,
 "nbformat_minor": 4
}
